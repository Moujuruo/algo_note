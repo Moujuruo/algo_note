{
 "cells": [
  {
   "cell_type": "code",
   "execution_count": 5,
   "metadata": {},
   "outputs": [],
   "source": [
    "from d2l import torch as d2l\n",
    "import torch\n",
    "from torch import nn\n",
    "from torch.utils import data"
   ]
  },
  {
   "cell_type": "code",
   "execution_count": 4,
   "metadata": {},
   "outputs": [],
   "source": [
    "def synthetic_data(w, b, num_examples):\n",
    "    X = torch.normal(0, 1, (num_examples, len(w)))\n",
    "    y = torch.matmul(X, w) + b\n",
    "    y += torch.normal(0, 0.01, y.shape)\n",
    "    return X, y.reshape((-1, 1))\n",
    "\n",
    "true_w = torch.tensor([2, -3.4])\n",
    "true_b = 4.2\n",
    "features, labels = synthetic_data(true_w, true_b, 1000)"
   ]
  },
  {
   "cell_type": "code",
   "execution_count": 6,
   "metadata": {},
   "outputs": [],
   "source": [
    "def load_data(batch_size, data_arrays, shuffle=True):\n",
    "    dataset = data.TensorDataset(*data_arrays)\n",
    "    return data.DataLoader(dataset, batch_size, shuffle=shuffle)"
   ]
  },
  {
   "cell_type": "code",
   "execution_count": 28,
   "metadata": {},
   "outputs": [],
   "source": [
    "import numpy as np\n",
    "def Huber(pred , true , sigma = 0.005):\n",
    "    error = abs(pred.detach().numpy() - true.detach().numpy())\n",
    "    return torch.tensor(np.where(error < sigma , error - sigma / 2 , 0.5 * sigma * error ** 2) , requires_grad= True)"
   ]
  },
  {
   "cell_type": "code",
   "execution_count": 26,
   "metadata": {},
   "outputs": [],
   "source": [
    "net = nn.Sequential(nn.Linear(2, 1))\n",
    "net[0].weight.data.normal_(0, 0.01)\n",
    "net[0].bias.data.fill_(0)\n",
    "# loss = nn.MSELoss()\n",
    "loss = nn.HuberLoss()\n",
    "batch_size, num_epochs, lr = 10, 100, 0.03\n",
    "trainer = torch.optim.SGD(net.parameters(), lr=lr)"
   ]
  },
  {
   "cell_type": "code",
   "execution_count": 29,
   "metadata": {},
   "outputs": [
    {
     "name": "stdout",
     "output_type": "stream",
     "text": [
      "epoch 1, loss 0.000048\n",
      "epoch 2, loss 0.000048\n",
      "epoch 3, loss 0.000048\n",
      "epoch 4, loss 0.000048\n",
      "epoch 5, loss 0.000048\n",
      "epoch 6, loss 0.000048\n",
      "epoch 7, loss 0.000048\n",
      "epoch 8, loss 0.000048\n",
      "epoch 9, loss 0.000048\n",
      "epoch 10, loss 0.000048\n",
      "epoch 11, loss 0.000048\n",
      "epoch 12, loss 0.000048\n",
      "epoch 13, loss 0.000048\n",
      "epoch 14, loss 0.000048\n",
      "epoch 15, loss 0.000048\n",
      "epoch 16, loss 0.000048\n",
      "epoch 17, loss 0.000048\n",
      "epoch 18, loss 0.000048\n",
      "epoch 19, loss 0.000048\n",
      "epoch 20, loss 0.000048\n",
      "epoch 21, loss 0.000048\n",
      "epoch 22, loss 0.000048\n",
      "epoch 23, loss 0.000048\n",
      "epoch 24, loss 0.000048\n",
      "epoch 25, loss 0.000048\n",
      "epoch 26, loss 0.000048\n",
      "epoch 27, loss 0.000048\n",
      "epoch 28, loss 0.000048\n",
      "epoch 29, loss 0.000048\n",
      "epoch 30, loss 0.000048\n",
      "epoch 31, loss 0.000048\n",
      "epoch 32, loss 0.000048\n",
      "epoch 33, loss 0.000048\n",
      "epoch 34, loss 0.000048\n",
      "epoch 35, loss 0.000048\n",
      "epoch 36, loss 0.000048\n",
      "epoch 37, loss 0.000048\n",
      "epoch 38, loss 0.000048\n",
      "epoch 39, loss 0.000048\n",
      "epoch 40, loss 0.000048\n",
      "epoch 41, loss 0.000048\n",
      "epoch 42, loss 0.000048\n",
      "epoch 43, loss 0.000048\n",
      "epoch 44, loss 0.000048\n",
      "epoch 45, loss 0.000048\n",
      "epoch 46, loss 0.000048\n",
      "epoch 47, loss 0.000048\n",
      "epoch 48, loss 0.000048\n",
      "epoch 49, loss 0.000048\n",
      "epoch 50, loss 0.000048\n",
      "epoch 51, loss 0.000048\n",
      "epoch 52, loss 0.000048\n",
      "epoch 53, loss 0.000048\n",
      "epoch 54, loss 0.000048\n",
      "epoch 55, loss 0.000048\n",
      "epoch 56, loss 0.000048\n",
      "epoch 57, loss 0.000048\n",
      "epoch 58, loss 0.000048\n",
      "epoch 59, loss 0.000048\n",
      "epoch 60, loss 0.000048\n",
      "epoch 61, loss 0.000048\n",
      "epoch 62, loss 0.000048\n",
      "epoch 63, loss 0.000048\n",
      "epoch 64, loss 0.000048\n",
      "epoch 65, loss 0.000048\n",
      "epoch 66, loss 0.000048\n",
      "epoch 67, loss 0.000048\n",
      "epoch 68, loss 0.000048\n",
      "epoch 69, loss 0.000048\n",
      "epoch 70, loss 0.000048\n",
      "epoch 71, loss 0.000048\n",
      "epoch 72, loss 0.000048\n",
      "epoch 73, loss 0.000048\n",
      "epoch 74, loss 0.000048\n",
      "epoch 75, loss 0.000048\n",
      "epoch 76, loss 0.000048\n",
      "epoch 77, loss 0.000048\n",
      "epoch 78, loss 0.000048\n",
      "epoch 79, loss 0.000048\n",
      "epoch 80, loss 0.000048\n",
      "epoch 81, loss 0.000048\n",
      "epoch 82, loss 0.000048\n",
      "epoch 83, loss 0.000048\n",
      "epoch 84, loss 0.000048\n",
      "epoch 85, loss 0.000048\n",
      "epoch 86, loss 0.000048\n",
      "epoch 87, loss 0.000048\n",
      "epoch 88, loss 0.000048\n",
      "epoch 89, loss 0.000048\n",
      "epoch 90, loss 0.000048\n",
      "epoch 91, loss 0.000048\n",
      "epoch 92, loss 0.000048\n",
      "epoch 93, loss 0.000048\n",
      "epoch 94, loss 0.000048\n",
      "epoch 95, loss 0.000048\n",
      "epoch 96, loss 0.000048\n",
      "epoch 97, loss 0.000048\n",
      "epoch 98, loss 0.000048\n",
      "epoch 99, loss 0.000048\n",
      "epoch 100, loss 0.000048\n"
     ]
    }
   ],
   "source": [
    "for i in range(num_epochs):\n",
    "    for X, y in load_data(batch_size, (features, labels)):\n",
    "        l = loss(net(X), y)\n",
    "        trainer.zero_grad()\n",
    "        l.backward()\n",
    "        trainer.step()\n",
    "    l = loss(net(features), labels)\n",
    "    print(f'epoch {i + 1}, loss {l:f}')\n",
    "    "
   ]
  }
 ],
 "metadata": {
  "kernelspec": {
   "display_name": "d2l",
   "language": "python",
   "name": "python3"
  },
  "language_info": {
   "codemirror_mode": {
    "name": "ipython",
    "version": 3
   },
   "file_extension": ".py",
   "mimetype": "text/x-python",
   "name": "python",
   "nbconvert_exporter": "python",
   "pygments_lexer": "ipython3",
   "version": "3.9.19"
  }
 },
 "nbformat": 4,
 "nbformat_minor": 2
}
